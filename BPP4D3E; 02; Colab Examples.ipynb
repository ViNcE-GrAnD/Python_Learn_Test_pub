{
  "cells": [
    {
      "cell_type": "markdown",
      "metadata": {
        "id": "view-in-github",
        "colab_type": "text"
      },
      "source": [
        "<a href=\"https://colab.research.google.com/github/ViNcE-GrAnD/Python_Learn_Test_pub/blob/main/BPP4D3E%3B%2002%3B%20Colab%20Examples.ipynb\" target=\"_parent\"><img src=\"https://colab.research.google.com/assets/colab-badge.svg\" alt=\"Open In Colab\"/></a>"
      ]
    },
    {
      "cell_type": "markdown",
      "metadata": {
        "id": "JgC6NhFZeQ21"
      },
      "source": [
        "# This is a **Main** Heading\n",
        "## This is a *Second Level* Heading\n",
        "This is some text."
      ]
    },
    {
      "cell_type": "code",
      "execution_count": 2,
      "metadata": {
        "colab": {
          "base_uri": "https://localhost:8080/"
        },
        "id": "rLZa5aijCQzY",
        "outputId": "8aec45bd-6d07-4ab1-9c54-0800c62cadab"
      },
      "outputs": [
        {
          "output_type": "stream",
          "name": "stdout",
          "text": [
            "Hello There!\n"
          ]
        }
      ],
      "source": [
        "print(\"Hello There!\")"
      ]
    },
    {
      "cell_type": "code",
      "source": [
        "a=3\n",
        "B=12.5\n",
        "print(a+B)"
      ],
      "metadata": {
        "id": "zlOAFodqnaHr",
        "outputId": "bff8a15e-a58f-4e6d-a76b-fe047d7a82c4",
        "colab": {
          "base_uri": "https://localhost:8080/"
        }
      },
      "execution_count": 3,
      "outputs": [
        {
          "output_type": "stream",
          "name": "stdout",
          "text": [
            "15.5\n"
          ]
        }
      ]
    },
    {
      "cell_type": "code",
      "source": [
        "c=23\n",
        "d=a+B+c"
      ],
      "metadata": {
        "id": "0Fg5GrSHoEmF"
      },
      "execution_count": 4,
      "outputs": []
    },
    {
      "cell_type": "code",
      "source": [
        "b=\"And the result is:\"\n",
        "print(b,d)"
      ],
      "metadata": {
        "id": "uUaicv5godz2",
        "outputId": "ca54eaed-95c7-4928-d2c2-e35904e14e87",
        "colab": {
          "base_uri": "https://localhost:8080/"
        }
      },
      "execution_count": 5,
      "outputs": [
        {
          "output_type": "stream",
          "name": "stdout",
          "text": [
            "And the result is: 38.5\n"
          ]
        }
      ]
    },
    {
      "cell_type": "code",
      "source": [
        "L1=([1,2,3,4,5],[6,7,8,9,10])\n",
        "print(len(L1[0]))\n",
        "print(L1[0][2])"
      ],
      "metadata": {
        "id": "eD-Cokb-w28w",
        "outputId": "42d2af13-198d-4420-e15b-88282c74ab9d",
        "colab": {
          "base_uri": "https://localhost:8080/"
        }
      },
      "execution_count": 7,
      "outputs": [
        {
          "output_type": "stream",
          "name": "stdout",
          "text": [
            "5\n",
            "3\n"
          ]
        }
      ]
    },
    {
      "cell_type": "markdown",
      "source": [
        "# New Section"
      ],
      "metadata": {
        "id": "Bhc7mlUP0vQY"
      }
    },
    {
      "cell_type": "code",
      "source": [
        "# Define a function to encapsulate task code that accepts\n",
        "# two pieces of information in boxes called variables\n",
        "# named value1 and value2.\n",
        "def addSomething(value1, value2):\n",
        "  # Add the two values together and return the result\n",
        "  # to the caller.\n",
        "  return value1 + value2\n",
        "# Call the addSomething() function with two numbers to\n",
        "# add and then use print() to display the result.\n",
        "print(addSomething(1, 2))"
      ],
      "metadata": {
        "id": "wmK-FibdYeMk",
        "outputId": "50e35345-a4e1-420d-d6d3-9b6d0a00a138",
        "colab": {
          "base_uri": "https://localhost:8080/"
        }
      },
      "execution_count": 2,
      "outputs": [
        {
          "output_type": "stream",
          "name": "stdout",
          "text": [
            "3\n"
          ]
        }
      ]
    }
  ],
  "metadata": {
    "colab": {
      "name": "Copy of A4D2E; 03; Colab Examples.ipynb",
      "provenance": [],
      "toc_visible": true,
      "include_colab_link": true
    },
    "kernelspec": {
      "display_name": "Python 3",
      "language": "python",
      "name": "python3"
    },
    "language_info": {
      "codemirror_mode": {
        "name": "ipython",
        "version": 3
      },
      "file_extension": ".py",
      "mimetype": "text/x-python",
      "name": "python",
      "nbconvert_exporter": "python",
      "pygments_lexer": "ipython3",
      "version": "3.8.3"
    }
  },
  "nbformat": 4,
  "nbformat_minor": 0
}