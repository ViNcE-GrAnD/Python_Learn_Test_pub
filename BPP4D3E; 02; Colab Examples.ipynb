{
  "cells": [
    {
      "cell_type": "markdown",
      "metadata": {
        "id": "view-in-github",
        "colab_type": "text"
      },
      "source": [
        "<a href=\"https://colab.research.google.com/github/ViNcE-GrAnD/Python_Learn_Test_pub/blob/main/BPP4D3E%3B%2002%3B%20Colab%20Examples.ipynb\" target=\"_parent\"><img src=\"https://colab.research.google.com/assets/colab-badge.svg\" alt=\"Open In Colab\"/></a>"
      ]
    },
    {
      "cell_type": "markdown",
      "metadata": {
        "id": "JgC6NhFZeQ21"
      },
      "source": [
        "# This is a **Main** Heading\n",
        "## This is a *Second Level* Heading\n",
        "This is some text."
      ]
    },
    {
      "cell_type": "code",
      "execution_count": 14,
      "metadata": {
        "colab": {
          "base_uri": "https://localhost:8080/"
        },
        "id": "rLZa5aijCQzY",
        "outputId": "ef18d907-6491-4163-cac6-2c5bd9c38e7a"
      },
      "outputs": [
        {
          "output_type": "stream",
          "name": "stdout",
          "text": [
            "Hello There!\n"
          ]
        }
      ],
      "source": [
        "print(\"Hello There!\")"
      ]
    },
    {
      "cell_type": "code",
      "source": [
        "a=3\n",
        "B=12.5\n",
        "print(a+B)"
      ],
      "metadata": {
        "id": "zlOAFodqnaHr",
        "outputId": "6365513c-e6dd-45e7-e734-fadec8005e7d",
        "colab": {
          "base_uri": "https://localhost:8080/"
        }
      },
      "execution_count": 15,
      "outputs": [
        {
          "output_type": "stream",
          "name": "stdout",
          "text": [
            "15.5\n"
          ]
        }
      ]
    },
    {
      "cell_type": "code",
      "source": [
        "c=23\n",
        "d=a+B+c"
      ],
      "metadata": {
        "id": "0Fg5GrSHoEmF"
      },
      "execution_count": 13,
      "outputs": []
    },
    {
      "cell_type": "code",
      "source": [
        "b=\"And the result is:\"\n",
        "print(b,d)"
      ],
      "metadata": {
        "id": "uUaicv5godz2",
        "outputId": "f7da2248-1c66-4eac-cacc-9d53d7189673",
        "colab": {
          "base_uri": "https://localhost:8080/"
        }
      },
      "execution_count": 17,
      "outputs": [
        {
          "output_type": "stream",
          "name": "stdout",
          "text": [
            "And the result is: 38.5\n"
          ]
        }
      ]
    },
    {
      "cell_type": "code",
      "source": [
        "L1=([1,2,3,4,5],[6,7,8,9,10])\n",
        "print(len(L1))\n",
        "print(L1[0][2])"
      ],
      "metadata": {
        "id": "eD-Cokb-w28w",
        "outputId": "e2820c82-3d0b-4f8f-d5c6-842bffbea1c6",
        "colab": {
          "base_uri": "https://localhost:8080/"
        }
      },
      "execution_count": 19,
      "outputs": [
        {
          "output_type": "stream",
          "name": "stdout",
          "text": [
            "2\n",
            "3\n"
          ]
        }
      ]
    },
    {
      "cell_type": "markdown",
      "source": [
        "# New Section"
      ],
      "metadata": {
        "id": "Bhc7mlUP0vQY"
      }
    }
  ],
  "metadata": {
    "colab": {
      "name": "Copy of A4D2E; 03; Colab Examples.ipynb",
      "provenance": [],
      "toc_visible": true,
      "include_colab_link": true
    },
    "kernelspec": {
      "display_name": "Python 3",
      "language": "python",
      "name": "python3"
    },
    "language_info": {
      "codemirror_mode": {
        "name": "ipython",
        "version": 3
      },
      "file_extension": ".py",
      "mimetype": "text/x-python",
      "name": "python",
      "nbconvert_exporter": "python",
      "pygments_lexer": "ipython3",
      "version": "3.8.3"
    }
  },
  "nbformat": 4,
  "nbformat_minor": 0
}